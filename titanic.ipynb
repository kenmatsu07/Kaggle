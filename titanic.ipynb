{
 "cells": [
  {
   "cell_type": "code",
   "execution_count": 1,
   "metadata": {},
   "outputs": [
    {
     "name": "stdout",
     "output_type": "stream",
     "text": [
      "0.19.1\n"
     ]
    }
   ],
   "source": [
    "import sys\n",
    "import os\n",
    "import glob\n",
    "import pandas as pd\n",
    "from collections import Counter\n",
    "from sklearn.preprocessing import Imputer\n",
    "\n",
    "\n",
    "import numpy as np\n",
    "import sklearn\n",
    "print (sklearn.__version__)\n",
    "\n",
    "from sklearn import linear_model\n",
    "from sklearn.model_selection import train_test_split\n",
    "\n",
    "from sklearn.metrics import accuracy_score\n",
    "from sklearn.metrics import precision_score\n",
    "from sklearn.metrics import recall_score\n",
    "from sklearn.metrics import f1_score\n",
    "from sklearn.metrics import confusion_matrix\n",
    "from sklearn.metrics import precision_recall_curve\n",
    "from sklearn.metrics import classification_report\n",
    "\n",
    "import matplotlib.pyplot as plt\n",
    "%matplotlib inline\n",
    "\n",
    "from sklearn.ensemble import GradientBoostingClassifier\n",
    "from sklearn.model_selection import cross_val_score\n",
    "\n",
    "from sklearn.model_selection import GridSearchCV\n",
    "from sklearn.metrics import roc_auc_score\n",
    "from sklearn.metrics import make_scorer\n",
    "from sklearn.metrics import roc_curve, auc\n",
    "from sklearn.pipeline import Pipeline\n",
    "from sklearn.preprocessing import StandardScaler\n",
    "from sklearn.preprocessing import MinMaxScaler\n",
    "from sklearn.model_selection import cross_val_score\n",
    "from sklearn.svm import  SVC\n",
    "\n",
    "from sklearn.externals import joblib"
   ]
  },
  {
   "cell_type": "code",
   "execution_count": 2,
   "metadata": {},
   "outputs": [],
   "source": [
    "# ディレクトリ名\n",
    "input_dir = ur\"C:/Users/mirait/wk/git/input/\"\n",
    "output_dir = ur\"C:/Users/mirait/wk/git/output/\""
   ]
  },
  {
   "cell_type": "code",
   "execution_count": 3,
   "metadata": {},
   "outputs": [
    {
     "data": {
      "text/html": [
       "<div>\n",
       "<style scoped>\n",
       "    .dataframe tbody tr th:only-of-type {\n",
       "        vertical-align: middle;\n",
       "    }\n",
       "\n",
       "    .dataframe tbody tr th {\n",
       "        vertical-align: top;\n",
       "    }\n",
       "\n",
       "    .dataframe thead th {\n",
       "        text-align: right;\n",
       "    }\n",
       "</style>\n",
       "<table border=\"1\" class=\"dataframe\">\n",
       "  <thead>\n",
       "    <tr style=\"text-align: right;\">\n",
       "      <th></th>\n",
       "      <th>PassengerId</th>\n",
       "      <th>Survived</th>\n",
       "      <th>Pclass</th>\n",
       "      <th>Name</th>\n",
       "      <th>Sex</th>\n",
       "      <th>Age</th>\n",
       "      <th>SibSp</th>\n",
       "      <th>Parch</th>\n",
       "      <th>Ticket</th>\n",
       "      <th>Fare</th>\n",
       "      <th>Cabin</th>\n",
       "      <th>Embarked</th>\n",
       "    </tr>\n",
       "  </thead>\n",
       "  <tbody>\n",
       "    <tr>\n",
       "      <th>0</th>\n",
       "      <td>1</td>\n",
       "      <td>0</td>\n",
       "      <td>3</td>\n",
       "      <td>Braund, Mr. Owen Harris</td>\n",
       "      <td>male</td>\n",
       "      <td>22.0</td>\n",
       "      <td>1</td>\n",
       "      <td>0</td>\n",
       "      <td>A/5 21171</td>\n",
       "      <td>7.2500</td>\n",
       "      <td>NaN</td>\n",
       "      <td>S</td>\n",
       "    </tr>\n",
       "    <tr>\n",
       "      <th>1</th>\n",
       "      <td>2</td>\n",
       "      <td>1</td>\n",
       "      <td>1</td>\n",
       "      <td>Cumings, Mrs. John Bradley (Florence Briggs Th...</td>\n",
       "      <td>female</td>\n",
       "      <td>38.0</td>\n",
       "      <td>1</td>\n",
       "      <td>0</td>\n",
       "      <td>PC 17599</td>\n",
       "      <td>71.2833</td>\n",
       "      <td>C85</td>\n",
       "      <td>C</td>\n",
       "    </tr>\n",
       "    <tr>\n",
       "      <th>2</th>\n",
       "      <td>3</td>\n",
       "      <td>1</td>\n",
       "      <td>3</td>\n",
       "      <td>Heikkinen, Miss. Laina</td>\n",
       "      <td>female</td>\n",
       "      <td>26.0</td>\n",
       "      <td>0</td>\n",
       "      <td>0</td>\n",
       "      <td>STON/O2. 3101282</td>\n",
       "      <td>7.9250</td>\n",
       "      <td>NaN</td>\n",
       "      <td>S</td>\n",
       "    </tr>\n",
       "    <tr>\n",
       "      <th>3</th>\n",
       "      <td>4</td>\n",
       "      <td>1</td>\n",
       "      <td>1</td>\n",
       "      <td>Futrelle, Mrs. Jacques Heath (Lily May Peel)</td>\n",
       "      <td>female</td>\n",
       "      <td>35.0</td>\n",
       "      <td>1</td>\n",
       "      <td>0</td>\n",
       "      <td>113803</td>\n",
       "      <td>53.1000</td>\n",
       "      <td>C123</td>\n",
       "      <td>S</td>\n",
       "    </tr>\n",
       "    <tr>\n",
       "      <th>4</th>\n",
       "      <td>5</td>\n",
       "      <td>0</td>\n",
       "      <td>3</td>\n",
       "      <td>Allen, Mr. William Henry</td>\n",
       "      <td>male</td>\n",
       "      <td>35.0</td>\n",
       "      <td>0</td>\n",
       "      <td>0</td>\n",
       "      <td>373450</td>\n",
       "      <td>8.0500</td>\n",
       "      <td>NaN</td>\n",
       "      <td>S</td>\n",
       "    </tr>\n",
       "  </tbody>\n",
       "</table>\n",
       "</div>"
      ],
      "text/plain": [
       "   PassengerId  Survived  Pclass  \\\n",
       "0            1         0       3   \n",
       "1            2         1       1   \n",
       "2            3         1       3   \n",
       "3            4         1       1   \n",
       "4            5         0       3   \n",
       "\n",
       "                                                Name     Sex   Age  SibSp  \\\n",
       "0                            Braund, Mr. Owen Harris    male  22.0      1   \n",
       "1  Cumings, Mrs. John Bradley (Florence Briggs Th...  female  38.0      1   \n",
       "2                             Heikkinen, Miss. Laina  female  26.0      0   \n",
       "3       Futrelle, Mrs. Jacques Heath (Lily May Peel)  female  35.0      1   \n",
       "4                           Allen, Mr. William Henry    male  35.0      0   \n",
       "\n",
       "   Parch            Ticket     Fare Cabin Embarked  \n",
       "0      0         A/5 21171   7.2500   NaN        S  \n",
       "1      0          PC 17599  71.2833   C85        C  \n",
       "2      0  STON/O2. 3101282   7.9250   NaN        S  \n",
       "3      0            113803  53.1000  C123        S  \n",
       "4      0            373450   8.0500   NaN        S  "
      ]
     },
     "execution_count": 3,
     "metadata": {},
     "output_type": "execute_result"
    }
   ],
   "source": [
    "# 訓練データを読み込む\n",
    "train_path = input_dir + ur\"train.csv\"\n",
    "train_data = pd.read_csv(train_path, encoding=\"cp932\",low_memory=False)\n",
    "train_data.head()"
   ]
  },
  {
   "cell_type": "code",
   "execution_count": 4,
   "metadata": {},
   "outputs": [
    {
     "data": {
      "text/html": [
       "<div>\n",
       "<style scoped>\n",
       "    .dataframe tbody tr th:only-of-type {\n",
       "        vertical-align: middle;\n",
       "    }\n",
       "\n",
       "    .dataframe tbody tr th {\n",
       "        vertical-align: top;\n",
       "    }\n",
       "\n",
       "    .dataframe thead th {\n",
       "        text-align: right;\n",
       "    }\n",
       "</style>\n",
       "<table border=\"1\" class=\"dataframe\">\n",
       "  <thead>\n",
       "    <tr style=\"text-align: right;\">\n",
       "      <th></th>\n",
       "      <th>PassengerId</th>\n",
       "      <th>Pclass</th>\n",
       "      <th>Name</th>\n",
       "      <th>Sex</th>\n",
       "      <th>Age</th>\n",
       "      <th>SibSp</th>\n",
       "      <th>Parch</th>\n",
       "      <th>Ticket</th>\n",
       "      <th>Fare</th>\n",
       "      <th>Cabin</th>\n",
       "      <th>Embarked</th>\n",
       "    </tr>\n",
       "  </thead>\n",
       "  <tbody>\n",
       "    <tr>\n",
       "      <th>0</th>\n",
       "      <td>892</td>\n",
       "      <td>3</td>\n",
       "      <td>Kelly, Mr. James</td>\n",
       "      <td>male</td>\n",
       "      <td>34.5</td>\n",
       "      <td>0</td>\n",
       "      <td>0</td>\n",
       "      <td>330911</td>\n",
       "      <td>7.8292</td>\n",
       "      <td>NaN</td>\n",
       "      <td>Q</td>\n",
       "    </tr>\n",
       "    <tr>\n",
       "      <th>1</th>\n",
       "      <td>893</td>\n",
       "      <td>3</td>\n",
       "      <td>Wilkes, Mrs. James (Ellen Needs)</td>\n",
       "      <td>female</td>\n",
       "      <td>47.0</td>\n",
       "      <td>1</td>\n",
       "      <td>0</td>\n",
       "      <td>363272</td>\n",
       "      <td>7.0000</td>\n",
       "      <td>NaN</td>\n",
       "      <td>S</td>\n",
       "    </tr>\n",
       "    <tr>\n",
       "      <th>2</th>\n",
       "      <td>894</td>\n",
       "      <td>2</td>\n",
       "      <td>Myles, Mr. Thomas Francis</td>\n",
       "      <td>male</td>\n",
       "      <td>62.0</td>\n",
       "      <td>0</td>\n",
       "      <td>0</td>\n",
       "      <td>240276</td>\n",
       "      <td>9.6875</td>\n",
       "      <td>NaN</td>\n",
       "      <td>Q</td>\n",
       "    </tr>\n",
       "    <tr>\n",
       "      <th>3</th>\n",
       "      <td>895</td>\n",
       "      <td>3</td>\n",
       "      <td>Wirz, Mr. Albert</td>\n",
       "      <td>male</td>\n",
       "      <td>27.0</td>\n",
       "      <td>0</td>\n",
       "      <td>0</td>\n",
       "      <td>315154</td>\n",
       "      <td>8.6625</td>\n",
       "      <td>NaN</td>\n",
       "      <td>S</td>\n",
       "    </tr>\n",
       "    <tr>\n",
       "      <th>4</th>\n",
       "      <td>896</td>\n",
       "      <td>3</td>\n",
       "      <td>Hirvonen, Mrs. Alexander (Helga E Lindqvist)</td>\n",
       "      <td>female</td>\n",
       "      <td>22.0</td>\n",
       "      <td>1</td>\n",
       "      <td>1</td>\n",
       "      <td>3101298</td>\n",
       "      <td>12.2875</td>\n",
       "      <td>NaN</td>\n",
       "      <td>S</td>\n",
       "    </tr>\n",
       "  </tbody>\n",
       "</table>\n",
       "</div>"
      ],
      "text/plain": [
       "   PassengerId  Pclass                                          Name     Sex  \\\n",
       "0          892       3                              Kelly, Mr. James    male   \n",
       "1          893       3              Wilkes, Mrs. James (Ellen Needs)  female   \n",
       "2          894       2                     Myles, Mr. Thomas Francis    male   \n",
       "3          895       3                              Wirz, Mr. Albert    male   \n",
       "4          896       3  Hirvonen, Mrs. Alexander (Helga E Lindqvist)  female   \n",
       "\n",
       "    Age  SibSp  Parch   Ticket     Fare Cabin Embarked  \n",
       "0  34.5      0      0   330911   7.8292   NaN        Q  \n",
       "1  47.0      1      0   363272   7.0000   NaN        S  \n",
       "2  62.0      0      0   240276   9.6875   NaN        Q  \n",
       "3  27.0      0      0   315154   8.6625   NaN        S  \n",
       "4  22.0      1      1  3101298  12.2875   NaN        S  "
      ]
     },
     "execution_count": 4,
     "metadata": {},
     "output_type": "execute_result"
    }
   ],
   "source": [
    "# テストデータを読み込む\n",
    "test_path = input_dir + ur\"test.csv\"\n",
    "test_data = pd.read_csv(test_path, encoding=\"cp932\",low_memory=False)\n",
    "test_data.head()"
   ]
  },
  {
   "cell_type": "code",
   "execution_count": 5,
   "metadata": {},
   "outputs": [
    {
     "name": "stdout",
     "output_type": "stream",
     "text": [
      "訓練データ：レコード長 891\n",
      "訓練データ：カラム数 12\n",
      "テストデータ：レコード長 418\n",
      "テストデータ：カラム数 11\n"
     ]
    }
   ],
   "source": [
    "print \"訓練データ：レコード長\", len(train_data)\n",
    "print \"訓練データ：カラム数\",len(train_data.columns)\n",
    "print \"テストデータ：レコード長\", len(test_data)\n",
    "print \"テストデータ：カラム数\",len(test_data.columns)"
   ]
  },
  {
   "cell_type": "code",
   "execution_count": 6,
   "metadata": {},
   "outputs": [],
   "source": [
    "# 分析に生かすために項目の特徴量を取得\n",
    "def feature(df):\n",
    "    \n",
    "    df_feature = pd.DataFrame()\n",
    "    \n",
    "    for i in (range(len(df.columns))):\n",
    "        tmp = pd.DataFrame()\n",
    "        tmp = df.iloc[:, [i]]\n",
    "        \n",
    "        selList = list()\n",
    "        record_cn = len(tmp) #レコード数\n",
    "        column_name = tmp.columns[0] #カラム名\n",
    "        value_type_cn = len(pd.value_counts(tmp.values.flatten())) #値の種類数(NAはカウント外)\n",
    "        NA_cn = tmp.isnull().sum().values[0] #NA件数\n",
    "\n",
    "        feature_list = list([record_cn, column_name, value_type_cn, NA_cn])\n",
    "        now_column = pd.DataFrame(feature_list).T\n",
    "        #print res1\n",
    "        \n",
    "        df_feature = pd.concat([df_feature, now_column], ignore_index=True)\n",
    "    \n",
    "    df_feature.columns = [u'レコード数', u'カラム名', 'v_count', u'NA件数']\n",
    "        \n",
    "    col_names = list(df_feature.columns)\n",
    "    df_feature = df_feature.loc[:, col_names]\n",
    "\n",
    "    return df_feature"
   ]
  },
  {
   "cell_type": "code",
   "execution_count": 7,
   "metadata": {},
   "outputs": [
    {
     "name": "stdout",
     "output_type": "stream",
     "text": [
      "12\n"
     ]
    }
   ],
   "source": [
    "# 訓練データの特徴量\n",
    "feature_train = feature(train_data)\n",
    "print len(feature_train)"
   ]
  },
  {
   "cell_type": "code",
   "execution_count": 8,
   "metadata": {},
   "outputs": [
    {
     "name": "stdout",
     "output_type": "stream",
     "text": [
      "11\n"
     ]
    }
   ],
   "source": [
    "# テストデータの特徴量\n",
    "feature_test = feature(test_data)\n",
    "print len(feature_test)"
   ]
  },
  {
   "cell_type": "code",
   "execution_count": 9,
   "metadata": {},
   "outputs": [],
   "source": [
    "output_feature_train = os.path.join(output_dir, \"column_feature_train.csv\")\n",
    "feature_train.to_csv(output_feature_train, encoding=\"cp932\",index=False)"
   ]
  },
  {
   "cell_type": "code",
   "execution_count": 10,
   "metadata": {},
   "outputs": [],
   "source": [
    "output_feature_test = os.path.join(output_dir, \"column_feature_test.csv\")\n",
    "feature_test.to_csv(output_feature_test, encoding=\"cp932\",index=False)"
   ]
  },
  {
   "cell_type": "code",
   "execution_count": 11,
   "metadata": {},
   "outputs": [],
   "source": [
    "# データ型が定義されているファイルを読み込み　（データ型は独自判断）\n",
    "type_list = input_dir + ur\"type_list.csv\"\n",
    "df_type = pd.read_csv(type_list, encoding=\"cp932\", low_memory=False)"
   ]
  },
  {
   "cell_type": "code",
   "execution_count": 12,
   "metadata": {},
   "outputs": [
    {
     "data": {
      "text/html": [
       "<div>\n",
       "<style scoped>\n",
       "    .dataframe tbody tr th:only-of-type {\n",
       "        vertical-align: middle;\n",
       "    }\n",
       "\n",
       "    .dataframe tbody tr th {\n",
       "        vertical-align: top;\n",
       "    }\n",
       "\n",
       "    .dataframe thead th {\n",
       "        text-align: right;\n",
       "    }\n",
       "</style>\n",
       "<table border=\"1\" class=\"dataframe\">\n",
       "  <thead>\n",
       "    <tr style=\"text-align: right;\">\n",
       "      <th></th>\n",
       "      <th>column_name</th>\n",
       "      <th>type</th>\n",
       "    </tr>\n",
       "  </thead>\n",
       "  <tbody>\n",
       "    <tr>\n",
       "      <th>0</th>\n",
       "      <td>PassengerId</td>\n",
       "      <td>char</td>\n",
       "    </tr>\n",
       "    <tr>\n",
       "      <th>1</th>\n",
       "      <td>Survived</td>\n",
       "      <td>char</td>\n",
       "    </tr>\n",
       "    <tr>\n",
       "      <th>2</th>\n",
       "      <td>Pclass</td>\n",
       "      <td>char</td>\n",
       "    </tr>\n",
       "    <tr>\n",
       "      <th>3</th>\n",
       "      <td>Name</td>\n",
       "      <td>char</td>\n",
       "    </tr>\n",
       "    <tr>\n",
       "      <th>4</th>\n",
       "      <td>Sex</td>\n",
       "      <td>char</td>\n",
       "    </tr>\n",
       "    <tr>\n",
       "      <th>5</th>\n",
       "      <td>Age</td>\n",
       "      <td>number</td>\n",
       "    </tr>\n",
       "    <tr>\n",
       "      <th>6</th>\n",
       "      <td>SibSp</td>\n",
       "      <td>number</td>\n",
       "    </tr>\n",
       "    <tr>\n",
       "      <th>7</th>\n",
       "      <td>Parch</td>\n",
       "      <td>number</td>\n",
       "    </tr>\n",
       "    <tr>\n",
       "      <th>8</th>\n",
       "      <td>Ticket</td>\n",
       "      <td>char</td>\n",
       "    </tr>\n",
       "    <tr>\n",
       "      <th>9</th>\n",
       "      <td>Fare</td>\n",
       "      <td>number</td>\n",
       "    </tr>\n",
       "    <tr>\n",
       "      <th>10</th>\n",
       "      <td>Cabin</td>\n",
       "      <td>char</td>\n",
       "    </tr>\n",
       "    <tr>\n",
       "      <th>11</th>\n",
       "      <td>Embarked</td>\n",
       "      <td>char</td>\n",
       "    </tr>\n",
       "  </tbody>\n",
       "</table>\n",
       "</div>"
      ],
      "text/plain": [
       "    column_name    type\n",
       "0   PassengerId    char\n",
       "1      Survived    char\n",
       "2        Pclass    char\n",
       "3          Name    char\n",
       "4           Sex    char\n",
       "5           Age  number\n",
       "6         SibSp  number\n",
       "7         Parch  number\n",
       "8        Ticket    char\n",
       "9          Fare  number\n",
       "10        Cabin    char\n",
       "11     Embarked    char"
      ]
     },
     "execution_count": 12,
     "metadata": {},
     "output_type": "execute_result"
    }
   ],
   "source": [
    "df_type"
   ]
  },
  {
   "cell_type": "code",
   "execution_count": 13,
   "metadata": {},
   "outputs": [],
   "source": [
    "type_char = df_type.query('type == \"char\"')\n",
    "char_type_column = set(list(type_char[\"column_name\"]))\n",
    "train_char = train_data.loc[:, char_type_column]"
   ]
  },
  {
   "cell_type": "code",
   "execution_count": 14,
   "metadata": {},
   "outputs": [],
   "source": [
    "# 値の種類数が100以上の項目は除外対象とする　（カテゴリ項目のみ）\n",
    "over_value100_list = list(feature_train.query(\"v_count >= 100\")[u\"カラム名\"].values)"
   ]
  },
  {
   "cell_type": "code",
   "execution_count": 15,
   "metadata": {},
   "outputs": [],
   "source": [
    "# カテゴリ項目を抽出し除外\n",
    "char_column = list(train_char.columns)\n",
    "del_char = list(set(char_column) & set(over_value100_list))\n",
    "wk_set = set(list(train_data.columns)) - set(del_char)\n",
    "wk_sel = list(wk_set)\n",
    "clean_train = train_data.loc[:, wk_sel]"
   ]
  },
  {
   "cell_type": "code",
   "execution_count": 16,
   "metadata": {},
   "outputs": [
    {
     "name": "stdout",
     "output_type": "stream",
     "text": [
      "      Fare Embarked   Age  Parch  Pclass     Sex  Survived  SibSp\n",
      "0   7.2500        S  22.0      0       3    male         0      1\n",
      "1  71.2833        C  38.0      0       1  female         1      1\n",
      "2   7.9250        S  26.0      0       3  female         1      0\n",
      "3  53.1000        S  35.0      0       1  female         1      1\n",
      "4   8.0500        S  35.0      0       3    male         0      0\n",
      "Index([u'Fare', u'Embarked', u'Age', u'Parch', u'Pclass', u'Sex', u'Survived',\n",
      "       u'SibSp'],\n",
      "      dtype='object')\n"
     ]
    }
   ],
   "source": [
    "print clean_train.head()\n",
    "print clean_train.columns"
   ]
  },
  {
   "cell_type": "code",
   "execution_count": 17,
   "metadata": {},
   "outputs": [],
   "source": [
    "# 文字列（Embarked）の最頻値を抽出するのは実装上困難なため、replaceで代替\n",
    "pd.value_counts(clean_train[\"Embarked\"]) # \"S\"\n",
    "clean_train[\"Embarked\"] = clean_train[\"Embarked\"].replace([np.nan],\"S\")"
   ]
  },
  {
   "cell_type": "code",
   "execution_count": 18,
   "metadata": {},
   "outputs": [],
   "source": [
    "# 欠損値が存在する項目（Age）は平均値で置換\n",
    "clean_train[\"Age\"] = clean_train[\"Age\"].fillna(clean_train[\"Age\"].mean())"
   ]
  },
  {
   "cell_type": "code",
   "execution_count": 19,
   "metadata": {},
   "outputs": [
    {
     "name": "stdout",
     "output_type": "stream",
     "text": [
      "Fare        False\n",
      "Embarked    False\n",
      "Age         False\n",
      "Parch       False\n",
      "Pclass      False\n",
      "Sex         False\n",
      "Survived    False\n",
      "SibSp       False\n",
      "dtype: bool\n"
     ]
    }
   ],
   "source": [
    "# 欠損値が存在しないことを確認\n",
    "print clean_train.isnull().any(axis=0)"
   ]
  },
  {
   "cell_type": "code",
   "execution_count": 20,
   "metadata": {},
   "outputs": [],
   "source": [
    "# モデル構築"
   ]
  },
  {
   "cell_type": "code",
   "execution_count": 21,
   "metadata": {},
   "outputs": [],
   "source": [
    "# 目的変数\"Survived\"がダミー変数化対象になるため退避\n",
    "target = clean_train[\"Survived\"]\n",
    "clean_train_wk = clean_train.drop(columns = {\"Survived\"},axis =1)"
   ]
  },
  {
   "cell_type": "code",
   "execution_count": 22,
   "metadata": {},
   "outputs": [
    {
     "name": "stdout",
     "output_type": "stream",
     "text": [
      "値0 549\n",
      "値1 342\n"
     ]
    }
   ],
   "source": [
    "# 目的変数の値を確認\n",
    "print \"値0\", len(clean_train.query('Survived == 0'))\n",
    "print \"値1\", len(clean_train.query('Survived == 1'))"
   ]
  },
  {
   "cell_type": "code",
   "execution_count": 23,
   "metadata": {},
   "outputs": [
    {
     "name": "stdout",
     "output_type": "stream",
     "text": [
      "入力ファイルの項目数　：　CHAR型の項目数　： 7 ： 3\n"
     ]
    }
   ],
   "source": [
    "# カテゴリ項目を抽出\n",
    "clean_train_column = set(list(clean_train_wk.columns))\n",
    "char_column = set(list(type_char[\"column_name\"]))\n",
    "char_match_lis2 = list(clean_train_column & char_column)\n",
    "print \"入力ファイルの項目数　：　CHAR型の項目数　：\", len(clean_train_wk.columns), \"：\", len(char_match_lis2)\n",
    "char_column_lis2 = clean_train_wk.loc[:,char_match_lis2]"
   ]
  },
  {
   "cell_type": "code",
   "execution_count": 24,
   "metadata": {},
   "outputs": [],
   "source": [
    "# 数値項目を抽出\n",
    "type_num = df_type.query('type == \"number\"')\n",
    "num_type_column = set(list(type_num[\"column_name\"]))\n",
    "train_num = clean_train_wk.loc[:, num_type_column]"
   ]
  },
  {
   "cell_type": "code",
   "execution_count": 25,
   "metadata": {},
   "outputs": [],
   "source": [
    "char_ex = char_column_lis2.astype('unicode')\n",
    "# フラグ値ではないため先頭値は削除しない\n",
    "char_ex_dum = pd.get_dummies(char_ex, drop_first=False)"
   ]
  },
  {
   "cell_type": "code",
   "execution_count": 26,
   "metadata": {},
   "outputs": [],
   "source": [
    "# 目的変数を結合\n",
    "wk = pd.concat([char_ex_dum,target], axis=1)\n",
    "# マージ\n",
    "merge_file = pd.concat([train_num,wk], axis=1)"
   ]
  },
  {
   "cell_type": "code",
   "execution_count": 27,
   "metadata": {},
   "outputs": [
    {
     "name": "stdout",
     "output_type": "stream",
     "text": [
      "891\n",
      "13\n",
      "      Fare   Age  SibSp  Parch  Sex_female  Sex_male  Pclass_1  Pclass_2  \\\n",
      "0   7.2500  22.0      1      0           0         1         0         0   \n",
      "1  71.2833  38.0      1      0           1         0         1         0   \n",
      "2   7.9250  26.0      0      0           1         0         0         0   \n",
      "3  53.1000  35.0      1      0           1         0         1         0   \n",
      "4   8.0500  35.0      0      0           0         1         0         0   \n",
      "\n",
      "   Pclass_3  Embarked_C  Embarked_Q  Embarked_S  Survived  \n",
      "0         1           0           0           1         0  \n",
      "1         0           1           0           0         1  \n",
      "2         1           0           0           1         1  \n",
      "3         0           0           0           1         1  \n",
      "4         1           0           0           1         0  \n"
     ]
    }
   ],
   "source": [
    "print len(merge_file)\n",
    "print len(merge_file.columns)\n",
    "print merge_file.head()"
   ]
  },
  {
   "cell_type": "code",
   "execution_count": 28,
   "metadata": {},
   "outputs": [
    {
     "name": "stdout",
     "output_type": "stream",
     "text": [
      "891\n",
      "891 :NA行数  0\n",
      "891 :inf行数  0\n"
     ]
    }
   ],
   "source": [
    "# 欠損値の処理\n",
    "tmp01 = merge_file.copy()\n",
    "print len(tmp01)\n",
    "tmp02 = tmp01.dropna()\n",
    "print len(tmp02),\":NA行数 \",(len(tmp01)-len(tmp02))\n",
    "tmp03 = tmp02.replace([np.inf,-np.inf],np.nan)    #infの置換\n",
    "tmp04 = tmp03.dropna().reset_index(drop =True)\n",
    "print len(tmp04),\":inf行数 \",(len(tmp03)-len(tmp04))"
   ]
  },
  {
   "cell_type": "code",
   "execution_count": 29,
   "metadata": {},
   "outputs": [
    {
     "name": "stdout",
     "output_type": "stream",
     "text": [
      "12\n",
      "891\n"
     ]
    }
   ],
   "source": [
    "# 説明変数、目的変数への分割\n",
    "X = tmp04.drop(columns = {u\"Survived\"},axis =1)\n",
    "y= tmp04.loc[:,[u\"Survived\"]]\n",
    "\n",
    "print len(X.columns)\n",
    "print len(X)"
   ]
  },
  {
   "cell_type": "code",
   "execution_count": 30,
   "metadata": {},
   "outputs": [],
   "source": [
    "# データ分割\n",
    "(X_train, X_test, y_train, y_test) = train_test_split(X, y, test_size=0.3, random_state=0)"
   ]
  },
  {
   "cell_type": "code",
   "execution_count": 32,
   "metadata": {},
   "outputs": [],
   "source": [
    "# 数値項目の標準化のため、カラム単位でデータ型を分離\n",
    "X_column = list(X.columns)\n",
    "num_column = set(list(train_num.columns))\n",
    "char_column = set(X_column) - set(num_column)"
   ]
  },
  {
   "cell_type": "code",
   "execution_count": 33,
   "metadata": {},
   "outputs": [],
   "source": [
    "# 数値項目において訓練データの平均値/標準偏差から訓練データ、テストデータのz-scoreを算出し標準化する\n",
    "# StandardScalerは上記が実現不可のため個別実装\n",
    "def number_scaler(X_train, X_test):\n",
    "    \n",
    "    train_scaler = pd.DataFrame()\n",
    "    test_scaler = pd.DataFrame()\n",
    "    train_std = pd.DataFrame()\n",
    "    \n",
    "    train_num = X_train.loc[:, num_column]\n",
    "    test_num = X_test.loc[:, num_column]\n",
    "    \n",
    "    # 標準化後にカテゴリ項目をマージさせるために定義\n",
    "    train_char = X_train.loc[:, char_column]\n",
    "    test_char = X_test.loc[:, char_column]\n",
    "    \n",
    "    # 標準偏差を詰めるリスト\n",
    "    std_lis =[]\n",
    "    \n",
    "    # 訓練データの平均値、標準偏差を取得\n",
    "    for i in train_num.columns:        \n",
    "        train_mean = train_num[i].mean()\n",
    "        train_std = train_num[i].std()\n",
    "        \n",
    "        # z-scoreを求める\n",
    "        train_z = pd.DataFrame({i:(train_num[i] - train_mean) / train_std})\n",
    "        test_z = pd.DataFrame({i:(test_num[i] - train_mean) / train_std})\n",
    "        # 訓練データの標準偏差を詰める\n",
    "        std_lis.append(train_std) \n",
    "        \n",
    "        train_scaler = pd.concat([train_scaler, train_z], axis=1)\n",
    "        test_scaler = pd.concat([test_scaler, test_z], axis=1)\n",
    "    \n",
    "    # カテゴリ項目をマージ\n",
    "    train_scaler = pd.concat([train_scaler,train_char], axis=1)\n",
    "    test_scaler = pd.concat([test_scaler,test_char], axis=1)\n",
    "    \n",
    "    # 訓練データの分割次第では標準偏差が0となり、z-scoreが'Nan'となるため0埋めする\n",
    "    train_scaler = train_scaler.fillna(0)\n",
    "    test_scaler = test_scaler.fillna(0)\n",
    "    \n",
    "    # 項目の標準偏差を出力\n",
    "    train_std = pd.DataFrame(std_lis).T\n",
    "    train_std.columns = num_column\n",
    "    train_std= train_std.T.reset_index(drop=False)\n",
    "    train_std.columns =[\"col_name\",\"std\"]\n",
    "    \n",
    "    print \"train:\",len(train_scaler)\n",
    "    print \"test:\",len(test_scaler)\n",
    "\n",
    "    return train_scaler, test_scaler, train_std "
   ]
  },
  {
   "cell_type": "code",
   "execution_count": 34,
   "metadata": {},
   "outputs": [],
   "source": [
    "# グリッドサーチ\n",
    "def grid_s(sc_list, model, grid_param, cv, X, y):\n",
    "    score = sc_list[0]\n",
    "    gs = GridSearchCV(model, grid_param, cv=cv, scoring=score)\n",
    "    gs.fit(X_train,y_train)\n",
    "    result = pd.DataFrame(gs.grid_scores_)\n",
    "    result = result.rename(columns={'mean_validation_score':score})\n",
    "    result = result.iloc[:,[0,1]]\n",
    "    print gs.best_params_\n",
    "    \n",
    "    for i in sc_list[1:]:\n",
    "        score = i\n",
    "        gs = GridSearchCV(model, grid_param, cv=cv, scoring=score)\n",
    "        gs.fit(X_train,y_train)\n",
    "        res = pd.DataFrame(gs.grid_scores_)\n",
    "        res = res.rename(columns={'mean_validation_score':score})\n",
    "        res = res.iloc[:,[1]]\n",
    "        result = pd.concat([result,res],axis=1)\n",
    "    \n",
    "    return result, gs.best_params_"
   ]
  },
  {
   "cell_type": "raw",
   "metadata": {},
   "source": [
    "# 引数としたrecall値の閾値を取得\n",
    "def get_recall_value(X_test_scaler, y_test, clf ,recall_n):\n",
    "    \n",
    "    # 任意の閾値のprecision、recallを取得\n",
    "    prob = clf.predict_proba(X_test_scaler)[:,1]\n",
    "    fpr,tpr,thresholds = roc_curve(y_test, prob)\n",
    "\n",
    "    fpr_df = pd.DataFrame(fpr)\n",
    "    tpr_df = pd.DataFrame(tpr)\n",
    "    there_df = pd.DataFrame(thresholds)\n",
    "    df_roc = pd.concat([fpr_df, tpr_df, there_df], axis=1)\n",
    "    df_roc.columns = [\"fpr\",\"tpr\",\"thresholds\"]\n",
    "    \n",
    "    over_recall = (df_roc.query('tpr >= @recall_n ')).reset_index(drop=True)\n",
    "    print len(over_recall)\n",
    "\n",
    "    # 閾値を取得\n",
    "    thresholds_n = round((over_recall[\"thresholds\"][0]),3)\n",
    "    \n",
    "    print thresholds_n\n",
    "    return thresholds_n"
   ]
  },
  {
   "cell_type": "raw",
   "metadata": {},
   "source": [
    "# モデル評価\n",
    "def score_result(X_test_scaler, y_test, clf, col_name, thresholds_n, recall_n):\n",
    "    \n",
    "    # recall固定値\n",
    "    fix_recall = str(recall_n * 100)+\"%\"\n",
    "    \n",
    "    y_prob = (clf.predict_proba(X_test_scaler)[:,1] >= thresholds_n).astype(int)\n",
    "    \n",
    "    # 閾値のモデル精度\n",
    "    ac_score = round((accuracy_score(y_test, y_prob)), 3)\n",
    "    pre_score = round((precision_score(y_test, y_prob)), 3)\n",
    "    rec_score = round((recall_score(y_test, y_prob)), 3)\n",
    "    f1_s = round((f1_score(y_test, y_prob)), 3)\n",
    "    \n",
    "    # predict_probaでaucを算出\n",
    "    prob = clf.predict_proba(X_test_scaler)[:,1]\n",
    "    fpr, tpr, thresholds = roc_curve(y_test,prob)\n",
    "    auc_score = round(auc(fpr,tpr),3)\n",
    "    \n",
    "    tmp = [fix_recall, auc_score, ac_score, pre_score, rec_score, f1_s]\n",
    "    score_df = pd.DataFrame(tmp)\n",
    "    score_df.index = [\"fix_Recall\", \"AUC\", \"Accuracy\", \"Precision\", \"Recall\", \"F1_score\"]\n",
    "    return score_df"
   ]
  },
  {
   "cell_type": "code",
   "execution_count": 35,
   "metadata": {},
   "outputs": [],
   "source": [
    "# SGD (回帰係数、precision評価版)\n",
    "def sgd(X_train, y_train, X_test, y_test, clf, X_std):\n",
    "    \n",
    "    # モデル学習\n",
    "    clf.fit(X_train,y_train)\n",
    "    \n",
    "    # モデル評価を出力\n",
    "    print \"score:\", clf.score(X_test,y_test)\n",
    "    print \"confusion_matrix:\"\n",
    "    print confusion_matrix(y_test, clf.predict(X_test))\n",
    "\n",
    "    # 回帰係数を出力\n",
    "    coeff_df = pd.DataFrame([X_train.columns,  clf.coef_[0]]).T\n",
    "    coeff_df.columns = [\"col_name\",\"coef\"] \n",
    "    coeff_df[\"coef_abs\"] = abs(coeff_df[\"coef\"] )\n",
    "    coeff_sort = coeff_df.sort_values(by=\"coef_abs\", ascending=False).reset_index(drop=True)\n",
    "    # 回帰係数+標準偏差でマージ\n",
    "    coeff_merge = pd.merge(coeff_sort, X_std, on=\"col_name\", how=\"left\")\n",
    "    coeff_merge[\"coef/std\"] = coeff_merge[\"coef\"]/coeff_merge[\"std\"]\n",
    "    \n",
    "    for i in range(len(coeff_merge)):\n",
    "        if np.isnan(coeff_merge.loc[i,\"coef/std\"]) == True:\n",
    "            coeff_merge.loc[i,\"coef/std\"] = coeff_merge.loc[i,\"coef\"]\n",
    "        else:\n",
    "            pass\n",
    "\n",
    "#     print \"\"\n",
    "#     print \"回帰係数の総数\",len(coeff_sort)\n",
    "    coeff_sort.coef =coeff_sort.coef.astype(np.float)\n",
    "#     print \"回帰係数 0の数\",len(coeff_sort.query('coef == 0'))\n",
    "#     print \"回帰係数 0以外の数\",len(coeff_sort.query('coef != 0'))\n",
    "    \n",
    "\n",
    "    # 適合率、再現率、閾値をそれぞれ出力\n",
    "    print \"\"\n",
    "    precision, recall, threshold = precision_recall_curve(y_test, clf.predict_proba(X_test)[:,1] )#\n",
    "\n",
    "    print \"precision \",precision\n",
    "    print \"recall_\",recall\n",
    "    print \"threshold\",threshold\n",
    "    \n",
    "    print \"\"\n",
    "    print (sklearn.metrics.classification_report(y_test, clf.predict(X_test)))\n",
    "    \n",
    "    print \"\"\n",
    "    prob = clf.predict_proba(X_test)[:,1]\n",
    "    fpr,tpr,thresholds = sklearn.metrics.roc_curve(y_test,prob)\n",
    "    print \"auc\", round(sklearn.metrics.auc(fpr,tpr),4)\n",
    "    \n",
    "    # ROC曲線\n",
    "    plt.plot(fpr, tpr)\n",
    "    plt.title(\"ROC curve\")\n",
    "    plt.xlabel(\"False Positve Rate\")\n",
    "    plt.ylabel(\"True Positive Rate\")\n",
    "    #plt.show()\n",
    "    \n",
    "    return clf, coeff_sort, coeff_merge"
   ]
  },
  {
   "cell_type": "raw",
   "metadata": {},
   "source": [
    "# SGD (エラスティックネット) (recall評価版)\n",
    "def sgd(X_train_scaler, X_test_scaler, y_train, y_test, recall_50, recall_90):\n",
    "    \n",
    "    clf =linear_model.SGDClassifier(loss='log', penalty='elasticnet', random_state=0, class_weight='balanced',\n",
    "                                    alpha=grid_sgd_param[u'alpha'] , l1_ratio=grid_sgd_param[u'l1_ratio'], max_iter=500)\n",
    "    clf.fit(X_train_scaler,y_train)\n",
    "    \n",
    "    # 項目毎の回帰係数を出力\n",
    "    coeff_df = pd.DataFrame([X_train_scaler.columns, clf.coef_[0]]).T\n",
    "    coeff_df.columns = [\"col_name\",\"coef\"] \n",
    "    coeff_df[\"coef_abs\"] = abs(coeff_df[\"coef\"] )\n",
    "    coeff_df_sort = coeff_df.sort_values(by=\"coef_abs\", ascending=False).reset_index(drop=True)\n",
    "    \n",
    "    print \"回帰係数の総数\",len(coeff_df_sort)\n",
    "    coeff_df_sort.coef =coeff_df_sort.coef.astype(np.float)\n",
    "    print \"回帰係数 0の数\",len(coeff_df_sort.query('coef == 0'))\n",
    "    print \"回帰係数 0以外の数\",len(coeff_df_sort.query('coef != 0'))\n",
    "    \n",
    "    col_name = \"SGDClassifier\"\n",
    "    \n",
    "    # recall:50%の評価\n",
    "    thre_50 = get_recall_value(X_test_scaler, y_test, clf, recall_50)#probの指定\n",
    "    print \"recall:\",recall_50,\" -> 閾値\",thre_50\n",
    "    score_recall_50 = score_result(X_test_scaler, y_test, clf, col_name, thre_50, recall_50)\n",
    "    \n",
    "    # recall:90%の評価\n",
    "    thre_90 = get_recall_value(X_test_scaler, y_test, clf, recall_90)\n",
    "    print \"recall:\",recall_90,\" -> 閾値\",thre_90\n",
    "    score_recall_90 = score_result(X_test_scaler, y_test, clf, col_name, thre_90, recall_90)    \n",
    "    \n",
    "    # AUC値を取得\n",
    "    prob = clf.predict_proba(X_test_scaler)[:,1]\n",
    "    fpr,tpr,thresholds = sklearn.metrics.roc_curve(y_test,prob)\n",
    "    print \"auc\", round(sklearn.metrics.auc(fpr,tpr),4)\n",
    "    \n",
    "    # ROC曲線を出力\n",
    "    plt.plot(fpr, tpr)\n",
    "    plt.title(\"ROC curve\")\n",
    "    plt.xlabel(\"False Positve Rate\")\n",
    "    plt.ylabel(\"True Positive Rate\")\n",
    "    \n",
    "    return coeff_df_sort, score_recall_50, score_recall_90"
   ]
  },
  {
   "cell_type": "code",
   "execution_count": 36,
   "metadata": {},
   "outputs": [
    {
     "name": "stdout",
     "output_type": "stream",
     "text": [
      "train: 623\n",
      "test: 268\n"
     ]
    }
   ],
   "source": [
    "# 数値項目を標準化\n",
    "X_train_scaler, X_test_scaler, X_train_std = number_scaler(X_train, X_test)"
   ]
  },
  {
   "cell_type": "code",
   "execution_count": 37,
   "metadata": {},
   "outputs": [
    {
     "name": "stdout",
     "output_type": "stream",
     "text": [
      "Index([u'Fare', u'Age', u'SibSp', u'Parch', u'Pclass_1', u'Embarked_Q',\n",
      "       u'Pclass_3', u'Pclass_2', u'Sex_male', u'Sex_female', u'Embarked_S',\n",
      "       u'Embarked_C'],\n",
      "      dtype='object')\n"
     ]
    }
   ],
   "source": [
    "print X_train_scaler.columns"
   ]
  },
  {
   "cell_type": "code",
   "execution_count": 38,
   "metadata": {},
   "outputs": [],
   "source": [
    "# モデルの評価値\n",
    "#sc_list = ['roc_auc','accuracy','f1']\n",
    "sc_list = ['accuracy']\n",
    "# 交差検定の実行回数\n",
    "cv  = 10"
   ]
  },
  {
   "cell_type": "code",
   "execution_count": 39,
   "metadata": {},
   "outputs": [],
   "source": [
    "# グリッドサーチ用のモデル\n",
    "grid_SGD_clf = linear_model.SGDClassifier(loss='log', penalty='elasticnet', random_state=0, class_weight='balanced',max_iter=50)"
   ]
  },
  {
   "cell_type": "code",
   "execution_count": 40,
   "metadata": {},
   "outputs": [],
   "source": [
    "# 最適化したいパラメータのリスト\n",
    "param = [{'alpha': [0.1, 0.01, 0.001],'l1_ratio': [0, 0.05, 0.1, 0.15]}]"
   ]
  },
  {
   "cell_type": "code",
   "execution_count": 41,
   "metadata": {},
   "outputs": [
    {
     "name": "stderr",
     "output_type": "stream",
     "text": [
      "C:\\Users\\mirait\\Anaconda2\\lib\\site-packages\\sklearn\\utils\\validation.py:578: DataConversionWarning: A column-vector y was passed when a 1d array was expected. Please change the shape of y to (n_samples, ), for example using ravel().\n",
      "  y = column_or_1d(y, warn=True)\n"
     ]
    },
    {
     "name": "stdout",
     "output_type": "stream",
     "text": [
      "{'alpha': 0.01, 'l1_ratio': 0.05}\n"
     ]
    },
    {
     "name": "stderr",
     "output_type": "stream",
     "text": [
      "C:\\Users\\mirait\\Anaconda2\\lib\\site-packages\\sklearn\\model_selection\\_search.py:761: DeprecationWarning: The grid_scores_ attribute was deprecated in version 0.18 in favor of the more elaborate cv_results_ attribute. The grid_scores_ attribute will not be available from 0.20\n",
      "  DeprecationWarning)\n"
     ]
    }
   ],
   "source": [
    "grid_result_SGD, best_param_SGD = grid_s(sc_list, grid_SGD_clf, param, cv, X_train, y_train)"
   ]
  },
  {
   "cell_type": "code",
   "execution_count": 42,
   "metadata": {},
   "outputs": [],
   "source": [
    "# グリッドサーチの探索結果を出力\n",
    "output_grid = os.path.join(output_dir, \"grid_SGD.csv\")\n",
    "grid_result_SGD.to_csv(output_grid, encoding=\"cp932\", index=False)"
   ]
  },
  {
   "cell_type": "code",
   "execution_count": 43,
   "metadata": {},
   "outputs": [],
   "source": [
    "#グリッドサーチで確認したacuが最も高いパラメータを追加\n",
    "SGD_clf = linear_model.SGDClassifier(loss='log', penalty='elasticnet', random_state=0, \n",
    "                                     alpha = best_param_SGD['alpha'], l1_ratio = best_param_SGD['l1_ratio'],class_weight='balanced',max_iter=500)"
   ]
  },
  {
   "cell_type": "code",
   "execution_count": 44,
   "metadata": {},
   "outputs": [],
   "source": [
    "# テストデータの欠損値を削除した上で目的変数に欠損値が存在しない行を指定する\n",
    "X_test_scaler = (X_test_scaler.replace([np.inf,-np.inf],np.nan)).dropna()\n",
    "noinf_ix = list(X_test_scaler.index)\n",
    "y_test = y_test.loc[noinf_ix,:]"
   ]
  },
  {
   "cell_type": "code",
   "execution_count": 45,
   "metadata": {},
   "outputs": [
    {
     "name": "stdout",
     "output_type": "stream",
     "text": [
      "score: 0.7873134328358209\n",
      "confusion_matrix:\n",
      "[[135  33]\n",
      " [ 24  76]]\n",
      "\n",
      "precision  [0.3875969  0.38521401 0.3828125  0.38431373 0.38582677 0.38735178\n",
      " 0.38888889 0.38645418 0.388      0.38955823 0.39112903 0.39271255\n",
      " 0.39430894 0.39591837 0.39754098 0.39506173 0.39669421 0.39834025\n",
      " 0.4        0.39748954 0.39915966 0.40084388 0.40254237 0.40425532\n",
      " 0.40598291 0.40772532 0.40948276 0.41125541 0.41304348 0.41484716\n",
      " 0.42410714 0.43378995 0.43577982 0.43778802 0.43981481 0.44392523\n",
      " 0.44600939 0.44339623 0.44549763 0.44761905 0.44497608 0.44711538\n",
      " 0.44444444 0.44660194 0.44878049 0.45098039 0.44827586 0.45049505\n",
      " 0.45273632 0.455      0.45728643 0.45959596 0.46192893 0.46428571\n",
      " 0.46666667 0.46907216 0.47150259 0.47395833 0.47643979 0.47894737\n",
      " 0.48148148 0.48404255 0.48924731 0.48648649 0.48913043 0.49450549\n",
      " 0.49723757 0.5        0.5027933  0.50561798 0.50847458 0.51136364\n",
      " 0.52023121 0.52046784 0.51764706 0.52071006 0.52380952 0.53012048\n",
      " 0.53333333 0.53658537 0.5398773  0.54320988 0.54037267 0.54375\n",
      " 0.54716981 0.55063291 0.55414013 0.55769231 0.56129032 0.56493506\n",
      " 0.56862745 0.57236842 0.57615894 0.57333333 0.5704698  0.56756757\n",
      " 0.57142857 0.57534247 0.57931034 0.58333333 0.58741259 0.6\n",
      " 0.60431655 0.60869565 0.61313869 0.61764706 0.62222222 0.62686567\n",
      " 0.63157895 0.63636364 0.64122137 0.64615385 0.65116279 0.65625\n",
      " 0.66141732 0.66666667 0.672      0.67741935 0.67479675 0.67213115\n",
      " 0.67768595 0.68333333 0.68067227 0.6779661  0.67521368 0.68103448\n",
      " 0.68695652 0.68421053 0.69026549 0.69642857 0.69369369 0.69090909\n",
      " 0.69724771 0.7037037  0.71028037 0.70754717 0.7047619  0.71153846\n",
      " 0.70873786 0.71568627 0.72277228 0.73       0.72727273 0.73469388\n",
      " 0.74226804 0.75       0.74736842 0.75531915 0.76344086 0.76086957\n",
      " 0.75824176 0.76666667 0.7752809  0.78409091 0.79310345 0.80232558\n",
      " 0.8        0.79761905 0.79518072 0.79268293 0.80246914 0.8\n",
      " 0.79746835 0.80769231 0.81818182 0.81578947 0.82666667 0.82432432\n",
      " 0.82191781 0.83333333 0.84507042 0.84285714 0.85507246 0.85294118\n",
      " 0.85074627 0.86363636 0.87692308 0.875      0.88888889 0.88709677\n",
      " 0.9        0.89830508 0.9137931  0.9122807  0.91071429 0.90909091\n",
      " 0.90740741 0.90566038 0.92307692 0.92156863 0.92       0.93877551\n",
      " 0.9375     0.93617021 0.93478261 0.93333333 0.95454545 0.97674419\n",
      " 1.         1.         1.         1.         1.         1.\n",
      " 1.         1.         1.         1.         1.         1.\n",
      " 1.         1.         1.         1.         1.         1.\n",
      " 1.         1.         1.         1.         1.         1.\n",
      " 1.         1.         1.         1.         1.         1.\n",
      " 1.         1.         1.         1.         1.         1.\n",
      " 1.         1.         1.         1.         1.         1.\n",
      " 1.        ]\n",
      "recall_ [1.   0.99 0.98 0.98 0.98 0.98 0.98 0.97 0.97 0.97 0.97 0.97 0.97 0.97\n",
      " 0.97 0.96 0.96 0.96 0.96 0.95 0.95 0.95 0.95 0.95 0.95 0.95 0.95 0.95\n",
      " 0.95 0.95 0.95 0.95 0.95 0.95 0.95 0.95 0.95 0.94 0.94 0.94 0.93 0.93\n",
      " 0.92 0.92 0.92 0.92 0.91 0.91 0.91 0.91 0.91 0.91 0.91 0.91 0.91 0.91\n",
      " 0.91 0.91 0.91 0.91 0.91 0.91 0.91 0.9  0.9  0.9  0.9  0.9  0.9  0.9\n",
      " 0.9  0.9  0.9  0.89 0.88 0.88 0.88 0.88 0.88 0.88 0.88 0.88 0.87 0.87\n",
      " 0.87 0.87 0.87 0.87 0.87 0.87 0.87 0.87 0.87 0.86 0.85 0.84 0.84 0.84\n",
      " 0.84 0.84 0.84 0.84 0.84 0.84 0.84 0.84 0.84 0.84 0.84 0.84 0.84 0.84\n",
      " 0.84 0.84 0.84 0.84 0.84 0.84 0.83 0.82 0.82 0.82 0.81 0.8  0.79 0.79\n",
      " 0.79 0.78 0.78 0.78 0.77 0.76 0.76 0.76 0.76 0.75 0.74 0.74 0.73 0.73\n",
      " 0.73 0.73 0.72 0.72 0.72 0.72 0.71 0.71 0.71 0.7  0.69 0.69 0.69 0.69\n",
      " 0.69 0.69 0.68 0.67 0.66 0.65 0.65 0.64 0.63 0.63 0.63 0.62 0.62 0.61\n",
      " 0.6  0.6  0.6  0.59 0.59 0.58 0.57 0.57 0.57 0.56 0.56 0.55 0.54 0.53\n",
      " 0.53 0.52 0.51 0.5  0.49 0.48 0.48 0.47 0.46 0.46 0.45 0.44 0.43 0.42\n",
      " 0.42 0.42 0.42 0.41 0.4  0.39 0.38 0.37 0.36 0.35 0.34 0.33 0.32 0.31\n",
      " 0.3  0.29 0.28 0.27 0.26 0.25 0.24 0.23 0.22 0.21 0.2  0.19 0.18 0.17\n",
      " 0.16 0.15 0.14 0.13 0.12 0.11 0.1  0.09 0.08 0.07 0.06 0.05 0.04 0.03\n",
      " 0.02 0.01 0.  ]\n",
      "threshold [0.11885475 0.12310797 0.12861864 0.12959144 0.13645984 0.1413969\n",
      " 0.14377756 0.1440355  0.14429097 0.14566405 0.15200548 0.15691455\n",
      " 0.15925123 0.16065295 0.16116172 0.16203965 0.1657225  0.16697835\n",
      " 0.16954488 0.17120761 0.17160495 0.17543576 0.17544973 0.17565918\n",
      " 0.18097293 0.18172741 0.18602543 0.18605673 0.18617573 0.1863491\n",
      " 0.18642644 0.18673392 0.18788528 0.18915298 0.18968398 0.18970564\n",
      " 0.19173097 0.19473917 0.19557261 0.1999147  0.20491296 0.20594158\n",
      " 0.20978114 0.21011033 0.21063112 0.21195936 0.21300138 0.21513839\n",
      " 0.21561116 0.21636049 0.21831348 0.22105195 0.22137359 0.22183367\n",
      " 0.22619078 0.22626441 0.22658063 0.2266386  0.22672801 0.22856702\n",
      " 0.23191906 0.23239076 0.23327656 0.23432505 0.23433247 0.23475309\n",
      " 0.23847984 0.23851917 0.23896315 0.24376544 0.24384167 0.24391535\n",
      " 0.24400943 0.24996428 0.25640132 0.25729131 0.25729396 0.2618898\n",
      " 0.26198556 0.26400038 0.26509699 0.26938231 0.26999187 0.27812425\n",
      " 0.28707498 0.29116213 0.29667314 0.3006626  0.30676969 0.30713214\n",
      " 0.31828387 0.31861095 0.32092529 0.32145412 0.33074895 0.33656541\n",
      " 0.33781032 0.34199255 0.35519981 0.35523771 0.35678684 0.36448009\n",
      " 0.36657708 0.37041447 0.37630685 0.37749313 0.37805884 0.3794383\n",
      " 0.38006237 0.39265543 0.39428972 0.39675183 0.39803023 0.40149126\n",
      " 0.40230373 0.41649427 0.41779375 0.42164303 0.42631749 0.43213563\n",
      " 0.43512221 0.43678022 0.4377654  0.43810564 0.43836777 0.4494804\n",
      " 0.45071005 0.45593901 0.4691584  0.48569227 0.4865809  0.4981612\n",
      " 0.50512396 0.51722119 0.52295285 0.52336543 0.52377797 0.52748934\n",
      " 0.53801946 0.53893796 0.542533   0.5676648  0.59847959 0.60087613\n",
      " 0.60636812 0.60727946 0.6159609  0.6225464  0.6240835  0.63056491\n",
      " 0.63173412 0.63518194 0.64066698 0.65096159 0.66256881 0.66584727\n",
      " 0.67800448 0.67893888 0.67989185 0.68256636 0.68428731 0.68916273\n",
      " 0.68946304 0.69145775 0.692524   0.6937525  0.69604378 0.70737577\n",
      " 0.70848297 0.71471545 0.71605424 0.72949675 0.74124908 0.74218919\n",
      " 0.74257121 0.74300043 0.74568269 0.74797269 0.74956514 0.7495729\n",
      " 0.74965311 0.74981342 0.75216905 0.7648951  0.77210961 0.77656099\n",
      " 0.77785049 0.78734063 0.78821265 0.79097763 0.79816661 0.8028462\n",
      " 0.80383613 0.81091694 0.81198556 0.8126961  0.81610997 0.81821656\n",
      " 0.8227244  0.82280396 0.83033807 0.83254541 0.8366792  0.84434279\n",
      " 0.85078286 0.85257664 0.85352236 0.85589934 0.85659005 0.8567322\n",
      " 0.85816835 0.86342654 0.86389129 0.88631144 0.89886815 0.90539601\n",
      " 0.911594   0.9124099  0.91259115 0.91673911 0.91905765 0.92061775\n",
      " 0.92269302 0.92779806 0.93199306 0.93226137 0.93680712 0.93789412\n",
      " 0.94003149 0.94148933 0.94318113 0.94521036 0.95350458 0.95368843\n",
      " 0.95468495 0.95503186 0.95775082 0.95877319 0.97041456 0.9854273 ]\n",
      "\n",
      "             precision    recall  f1-score   support\n",
      "\n",
      "          0       0.85      0.80      0.83       168\n",
      "          1       0.70      0.76      0.73       100\n",
      "\n",
      "avg / total       0.79      0.79      0.79       268\n",
      "\n",
      "\n",
      "auc 0.8526\n"
     ]
    },
    {
     "data": {
      "image/png": "[encoded data removed]",
      "text/plain": [
       "<matplotlib.figure.Figure at 0x8676ad0>"
      ]
     },
     "metadata": {},
     "output_type": "display_data"
    }
   ],
   "source": [
    "clf, result ,result_std = sgd(X_train_scaler, y_train, X_test_scaler, y_test, SGD_clf, X_train_std)"
   ]
  },
  {
   "cell_type": "code",
   "execution_count": 46,
   "metadata": {},
   "outputs": [],
   "source": [
    "# モデル構築結果を出力\n",
    "output_path = os.path.join(output_dir, \"result_std.csv\")\n",
    "result_std.to_csv(output_path, encoding=\"cp932\", index=False)"
   ]
  },
  {
   "cell_type": "code",
   "execution_count": 47,
   "metadata": {},
   "outputs": [
    {
     "name": "stdout",
     "output_type": "stream",
     "text": [
      "[0.85185185 0.81481481 0.66666667 0.7037037  0.81481481 0.74074074\n",
      " 0.85185185 0.7037037  0.80769231 0.73076923]\n",
      "Accuracy: 0.77\n"
     ]
    }
   ],
   "source": [
    "# 交差検証\n",
    "cross_scores = cross_val_score(clf, X_test_scaler, (np.array(y_test.iloc[:,0].values.flatten())), cv=10)\n",
    "print cross_scores\n",
    "print (\"Accuracy: %0.2f\" % (cross_scores.mean()))"
   ]
  },
  {
   "cell_type": "code",
   "execution_count": null,
   "metadata": {},
   "outputs": [],
   "source": []
  }
 ],
 "metadata": {
  "kernelspec": {
   "display_name": "Python 2",
   "language": "python",
   "name": "python2"
  },
  "language_info": {
   "codemirror_mode": {
    "name": "ipython",
    "version": 2
   },
   "file_extension": ".py",
   "mimetype": "text/x-python",
   "name": "python",
   "nbconvert_exporter": "python",
   "pygments_lexer": "ipython2",
   "version": "2.7.14"
  }
 },
 "nbformat": 4,
 "nbformat_minor": 2
}
